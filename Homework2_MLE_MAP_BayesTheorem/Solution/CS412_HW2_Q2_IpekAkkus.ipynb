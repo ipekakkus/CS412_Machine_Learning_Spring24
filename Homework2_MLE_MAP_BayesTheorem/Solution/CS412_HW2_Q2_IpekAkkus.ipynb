{
  "nbformat": 4,
  "nbformat_minor": 0,
  "metadata": {
    "colab": {
      "provenance": []
    },
    "kernelspec": {
      "name": "python3",
      "display_name": "Python 3"
    },
    "language_info": {
      "name": "python"
    }
  },
  "cells": [
    {
      "cell_type": "markdown",
      "source": [
        "# Probability and Bayes’ Theorem: Kaggle ML & DS Survey [60 pts]\n",
        "\n",
        " **Dataset:** 2017 Kaggle Machine Learning (ML) & Data Science (DS) Survey comprises over 16,000\n",
        " responses from Kaggle’s industry-wide survey on the state of data science and machine learning.\n",
        "\n",
        "\n",
        " The dataset, provided to you as cs412-hw2-data.zip, has 5 files:\n",
        "\n",
        " • ***schema.csv***: a CSV file with survey schema. This schema includes the questions that correspond to\n",
        " each column name in both the *multipleChoiceResponses.csv *and freeformResponses.csv.\n",
        "\n",
        "• ***multipleChoiceResponses.csv:*** Respondents’ answers to multiple choice and ranking questions. These are non-randomized and thus a single row does correspond to all of a single user’s answers.\n",
        "\n",
        "• ***freeformResponses.csv:*** Respondents’ freeform answers to Kaggle’s survey questions. These responses are randomized within a column, so that reading across a single row does not give a single user’s answers.\n",
        "\n",
        "• ***conversionRates.csv:*** Currency conversion rates (to USD).\n",
        "\n",
        "• ***RespondentTypeREADME.txt:*** This is a schema for decoding the responses in the ”Asked” column of the schema.csv file."
      ],
      "metadata": {
        "id": "63jDycAlFyx3"
      }
    },
    {
      "cell_type": "code",
      "execution_count": 1,
      "metadata": {
        "id": "rAk9i8AhEeo4"
      },
      "outputs": [],
      "source": [
        "# Import necessary libraries\n",
        "import numpy as np\n",
        "import pandas as pd"
      ]
    },
    {
      "cell_type": "markdown",
      "source": [
        "**Constructing Data Frames**"
      ],
      "metadata": {
        "id": "rRR4OxB1JV0z"
      }
    },
    {
      "cell_type": "code",
      "source": [
        "# The path to your CSV file\n",
        "file_path = '/content/conversionRates.csv'\n",
        "\n",
        "# Read the CSV file\n",
        "conversion_rates_df = pd.read_csv(file_path)\n",
        "\n",
        "# Display the first few rows of the DataFrame\n",
        "print(conversion_rates_df.head())"
      ],
      "metadata": {
        "colab": {
          "base_uri": "https://localhost:8080/"
        },
        "id": "Zco6NSYNIpry",
        "outputId": "de7b1297-dcb7-4199-e4d7-61295a93b349"
      },
      "execution_count": 2,
      "outputs": [
        {
          "output_type": "stream",
          "name": "stdout",
          "text": [
            "   Unnamed: 0 originCountry  exchangeRate\n",
            "0           1           USD      1.000000\n",
            "1           2           EUR      1.195826\n",
            "2           3           INR      0.015620\n",
            "3           4           GBP      1.324188\n",
            "4           5           BRL      0.321350\n"
          ]
        }
      ]
    },
    {
      "cell_type": "code",
      "source": [
        "# The path to your CSV file\n",
        "file_path = '/content/freeformResponses.csv'\n",
        "\n",
        "# Read the CSV file\n",
        "free_form_responses_df = pd.read_csv(file_path)\n",
        "\n",
        "# Display the first few rows of the DataFrame\n",
        "print(free_form_responses_df.head(20))"
      ],
      "metadata": {
        "colab": {
          "base_uri": "https://localhost:8080/"
        },
        "id": "qLcIf_9CJT2j",
        "outputId": "5f726b3a-b4d7-48af-cf13-4e250a148715"
      },
      "execution_count": 3,
      "outputs": [
        {
          "output_type": "stream",
          "name": "stdout",
          "text": [
            "   GenderFreeForm KaggleMotivationFreeForm CurrentJobTitleFreeForm  \\\n",
            "0             NaN                      NaN                     NaN   \n",
            "1             NaN                      NaN                     NaN   \n",
            "2             NaN                      NaN                 teacher   \n",
            "3             NaN                      NaN                     NaN   \n",
            "4             NaN                      NaN                     NaN   \n",
            "5             NaN                      NaN                     NaN   \n",
            "6             NaN                      NaN                     NaN   \n",
            "7             NaN                      NaN                     NaN   \n",
            "8             NaN                      NaN                     NaN   \n",
            "9             NaN                      NaN                     NaN   \n",
            "10            NaN                      NaN                     NaN   \n",
            "11            NaN                      NaN                     NaN   \n",
            "12            NaN                      NaN                     NaN   \n",
            "13            NaN                      NaN                     NaN   \n",
            "14            NaN                      NaN                     NaN   \n",
            "15            NaN                      NaN                     NaN   \n",
            "16            NaN                      NaN                     NaN   \n",
            "17            NaN                      NaN                     NaN   \n",
            "18            NaN                  Curious                     NaN   \n",
            "19            NaN                      NaN   Hydrographic Surveyor   \n",
            "\n",
            "   MLToolNextYearFreeForm MLMethodNextYearFreeForm  \\\n",
            "0                     NaN                      NaN   \n",
            "1                     NaN                      NaN   \n",
            "2                     NaN                      NaN   \n",
            "3                     NaN                      NaN   \n",
            "4                     NaN                      NaN   \n",
            "5                     NaN                      NaN   \n",
            "6                     NaN                      NaN   \n",
            "7                     NaN                      NaN   \n",
            "8                     NaN                      NaN   \n",
            "9                 PyTorch                      NaN   \n",
            "10                    NaN                      NaN   \n",
            "11                    NaN                      NaN   \n",
            "12                    NaN                      NaN   \n",
            "13                    NaN                      NaN   \n",
            "14                    NaN                      NaN   \n",
            "15                    NaN                      NaN   \n",
            "16                    NaN                      NaN   \n",
            "17                    NaN                      NaN   \n",
            "18                    NaN                      NaN   \n",
            "19                    NaN                      NaN   \n",
            "\n",
            "   LanguageRecommendationFreeForm PublicDatasetsFreeForm  \\\n",
            "0                             NaN                    NaN   \n",
            "1                             NaN                    NaN   \n",
            "2                             NaN                    NaN   \n",
            "3                             NaN                    NaN   \n",
            "4                             NaN                    NaN   \n",
            "5                             NaN              kdnuggets   \n",
            "6                             NaN                    NaN   \n",
            "7                             NaN          Stanford SNAP   \n",
            "8                             NaN                    NaN   \n",
            "9                             NaN                    NaN   \n",
            "10                            NaN                    NaN   \n",
            "11                            NaN                    NaN   \n",
            "12                            NaN                    NaN   \n",
            "13                            NaN                    NaN   \n",
            "14                            NaN                    NaN   \n",
            "15                            NaN                    NaN   \n",
            "16                            NaN                    NaN   \n",
            "17                            NaN                    NaN   \n",
            "18                            NaN                    NaN   \n",
            "19                            NaN                    NaN   \n",
            "\n",
            "             PersonalProjectsChallengeFreeForm  \\\n",
            "0                            Data manipulation   \n",
            "1   I can't find time to practice consistently   \n",
            "2                                          NaN   \n",
            "3                     Connectivity/data fusion   \n",
            "4                                          NaN   \n",
            "5                                Prepping data   \n",
            "6                                          NaN   \n",
            "7                                          NaN   \n",
            "8                                          NaN   \n",
            "9                                          NaN   \n",
            "10                                         NaN   \n",
            "11                                         NaN   \n",
            "12                                         NaN   \n",
            "13                                         NaN   \n",
            "14                                         NaN   \n",
            "15                                         NaN   \n",
            "16                                         NaN   \n",
            "17                                         NaN   \n",
            "18                                         NaN   \n",
            "19                                         NaN   \n",
            "\n",
            "   LearningPlatformCommunityFreeForm LearningPlatformFreeForm1  ...  \\\n",
            "0                                NaN                       NaN  ...   \n",
            "1                                NaN                       NaN  ...   \n",
            "2                                NaN                   Meetups  ...   \n",
            "3                                NaN                       NaN  ...   \n",
            "4                                NaN                       NaN  ...   \n",
            "5                                NaN                       NaN  ...   \n",
            "6                                NaN                       NaN  ...   \n",
            "7                                NaN                       NaN  ...   \n",
            "8                                NaN                       NaN  ...   \n",
            "9                                NaN                       NaN  ...   \n",
            "10                               NaN                       NaN  ...   \n",
            "11                               NaN                       NaN  ...   \n",
            "12                               NaN                       NaN  ...   \n",
            "13                               NaN                       NaN  ...   \n",
            "14                               NaN                       NaN  ...   \n",
            "15                               NaN                       NaN  ...   \n",
            "16                               NaN                       NaN  ...   \n",
            "17                               NaN                       NaN  ...   \n",
            "18                               NaN                       NaN  ...   \n",
            "19                               NaN                       NaN  ...   \n",
            "\n",
            "   WorkMethodsFrequencySelect2FreeForm WorkMethodsFrequencySelect3FreeForm  \\\n",
            "0                                  NaN                                 NaN   \n",
            "1                                  NaN                                 NaN   \n",
            "2                                  NaN                                 NaN   \n",
            "3                                  NaN                                 NaN   \n",
            "4                                  NaN                                 NaN   \n",
            "5                                  NaN                                 NaN   \n",
            "6                                  NaN                                 NaN   \n",
            "7                                  NaN                                 NaN   \n",
            "8                                  NaN                                 NaN   \n",
            "9                                  NaN                                 NaN   \n",
            "10                                 NaN                                 NaN   \n",
            "11                                 NaN                                 NaN   \n",
            "12                                 NaN                                 NaN   \n",
            "13                                 NaN                                 NaN   \n",
            "14                                 NaN                                 NaN   \n",
            "15                                 NaN                                 NaN   \n",
            "16                                 NaN                                 NaN   \n",
            "17                                 NaN                                 NaN   \n",
            "18                                 NaN                                 NaN   \n",
            "19                                 NaN                                 NaN   \n",
            "\n",
            "    TimeOtherSelectFreeForm WorkChallengesFreeForm  \\\n",
            "0                       NaN                    NaN   \n",
            "1                       NaN                    NaN   \n",
            "2                       NaN                    NaN   \n",
            "3                       NaN                    NaN   \n",
            "4                       NaN                    NaN   \n",
            "5                       NaN                    NaN   \n",
            "6                       NaN                    NaN   \n",
            "7                       NaN                    NaN   \n",
            "8                       NaN                    NaN   \n",
            "9                       NaN                    NaN   \n",
            "10                      NaN                    NaN   \n",
            "11                      NaN                    NaN   \n",
            "12                      NaN                    NaN   \n",
            "13                      NaN                    NaN   \n",
            "14                      NaN                    NaN   \n",
            "15                      NaN                    NaN   \n",
            "16                      NaN                    NaN   \n",
            "17                      NaN                    NaN   \n",
            "18                      NaN                    NaN   \n",
            "19                      NaN                    NaN   \n",
            "\n",
            "    WorkChallengeFrequencyOtherFreeForm WorkMLTeamSeatFreeForm  \\\n",
            "0                                   NaN                    NaN   \n",
            "1                                   NaN                    NaN   \n",
            "2                                   NaN                    NaN   \n",
            "3                                   NaN                    NaN   \n",
            "4                                   NaN                    NaN   \n",
            "5                                   NaN                    NaN   \n",
            "6                                   NaN                    NaN   \n",
            "7                                   NaN                    NaN   \n",
            "8                                   NaN                    NaN   \n",
            "9                                   NaN                    NaN   \n",
            "10                                  NaN                    NaN   \n",
            "11                                  NaN                    NaN   \n",
            "12                                  NaN                    NaN   \n",
            "13                                  NaN                    NaN   \n",
            "14                                  NaN                    NaN   \n",
            "15                                  NaN                    NaN   \n",
            "16                                  NaN                    NaN   \n",
            "17                                  NaN                    NaN   \n",
            "18                                  NaN                    NaN   \n",
            "19                                  NaN                    NaN   \n",
            "\n",
            "    WorkDataStorageFreeForm         WorkCodeSharingFreeForm  \\\n",
            "0                       NaN                             NaN   \n",
            "1                       NaN                             NaN   \n",
            "2                       NaN                             NaN   \n",
            "3                       NaN                             NaN   \n",
            "4                       NaN                             NaN   \n",
            "5                       NaN                             NaN   \n",
            "6                       NaN                             NaN   \n",
            "7                       NaN                             NaN   \n",
            "8                       NaN                             NaN   \n",
            "9                       NaN                             NaN   \n",
            "10                      NaN                             NaN   \n",
            "11                      NaN  Databricks (modified Zeppelin)   \n",
            "12                      NaN                             NaN   \n",
            "13                      NaN                             NaN   \n",
            "14                      NaN                             NaN   \n",
            "15                      NaN                           Slack   \n",
            "16                      NaN                             NaN   \n",
            "17                      NaN                             NaN   \n",
            "18                      NaN                             NaN   \n",
            "19                      NaN                             NaN   \n",
            "\n",
            "    SalaryChangeFreeForm JobSearchResourceFreeForm  \n",
            "0                    NaN                       NaN  \n",
            "1                    NaN                       NaN  \n",
            "2                    NaN                       NaN  \n",
            "3                    NaN                       NaN  \n",
            "4                    NaN                       NaN  \n",
            "5                    NaN                       NaN  \n",
            "6                    NaN                       NaN  \n",
            "7                    NaN                       NaN  \n",
            "8                    NaN                       NaN  \n",
            "9                    NaN                       NaN  \n",
            "10                   NaN                       NaN  \n",
            "11                   NaN                       NaN  \n",
            "12                   NaN                       NaN  \n",
            "13                   NaN                       NaN  \n",
            "14                   NaN                       NaN  \n",
            "15                   NaN                       NaN  \n",
            "16                   NaN                       NaN  \n",
            "17                   NaN                       NaN  \n",
            "18                   NaN                       NaN  \n",
            "19                   NaN                       NaN  \n",
            "\n",
            "[20 rows x 62 columns]\n"
          ]
        },
        {
          "output_type": "stream",
          "name": "stderr",
          "text": [
            "<ipython-input-3-f9ef281487f9>:5: DtypeWarning: Columns (5,17,21,38,50) have mixed types. Specify dtype option on import or set low_memory=False.\n",
            "  free_form_responses_df = pd.read_csv(file_path)\n"
          ]
        }
      ]
    },
    {
      "cell_type": "code",
      "source": [
        "# The path to your CSV file\n",
        "file_path = '/content/schema.csv'\n",
        "\n",
        "# Read the CSV file\n",
        "schema_df = pd.read_csv(file_path)\n",
        "\n",
        "# Display the first few rows of the DataFrame\n",
        "print(schema_df.head(10))"
      ],
      "metadata": {
        "colab": {
          "base_uri": "https://localhost:8080/"
        },
        "id": "kMLtw1IOJn-r",
        "outputId": "6131403e-7d93-44d9-eeb0-2386db1f3520"
      },
      "execution_count": 4,
      "outputs": [
        {
          "output_type": "stream",
          "name": "stdout",
          "text": [
            "                     Column  \\\n",
            "0              GenderSelect   \n",
            "1            GenderFreeForm   \n",
            "2                   Country   \n",
            "3                       Age   \n",
            "4          EmploymentStatus   \n",
            "5             StudentStatus   \n",
            "6       LearningDataScience   \n",
            "7  KaggleMotivationFreeForm   \n",
            "8                CodeWriter   \n",
            "9            CareerSwitcher   \n",
            "\n",
            "                                            Question         Asked  \n",
            "0     Select your gender identity. - Selected Choice           All  \n",
            "1  Select your gender identity. - A different ide...           All  \n",
            "2          Select the country you currently live in.           All  \n",
            "3                                   What's your age?           All  \n",
            "4             What's your current employment status?           All  \n",
            "5  Are you currently enrolled as a student at a d...    Non-worker  \n",
            "6  Are you currently focused on learning data sci...    Non-worker  \n",
            "7    What's your motivation for being a Kaggle user?  Non-switcher  \n",
            "8  Do you write code to analyze data in your curr...       Worker1  \n",
            "9  Are you actively looking to switch careers to ...       Worker1  \n"
          ]
        }
      ]
    },
    {
      "cell_type": "code",
      "source": [
        "# Use a try-except block to attempt to read the file with different encodings\n",
        "try:\n",
        "    # Try reading with the default utf-8 encoding first\n",
        "    multiple_choice_responses_df = pd.read_csv('/content/multipleChoiceResponses.csv')\n",
        "except UnicodeDecodeError:\n",
        "    # If a UnicodeDecodeError occurs, try a different encoding\n",
        "    multiple_choice_responses_df = pd.read_csv('/content/multipleChoiceResponses.csv', encoding='ISO-8859-1')\n",
        "\n",
        "# Display the first few rows of the DataFrame\n",
        "print(multiple_choice_responses_df.head(10))"
      ],
      "metadata": {
        "colab": {
          "base_uri": "https://localhost:8080/"
        },
        "id": "5wCzepFbJk02",
        "outputId": "20b0ba3c-a2c3-413d-c065-2eb4018378f8"
      },
      "execution_count": 5,
      "outputs": [
        {
          "output_type": "stream",
          "name": "stdout",
          "text": [
            "                                        GenderSelect        Country   Age  \\\n",
            "0  Non-binary, genderqueer, or gender non-conforming            NaN   NaN   \n",
            "1                                             Female  United States  30.0   \n",
            "2                                               Male         Canada  28.0   \n",
            "3                                               Male  United States  56.0   \n",
            "4                                               Male         Taiwan  38.0   \n",
            "5                                               Male         Brazil  46.0   \n",
            "6                                               Male  United States  35.0   \n",
            "7                                             Female          India  22.0   \n",
            "8                                             Female      Australia  43.0   \n",
            "9                                               Male         Russia  33.0   \n",
            "\n",
            "                                    EmploymentStatus StudentStatus  \\\n",
            "0                                 Employed full-time           NaN   \n",
            "1                 Not employed, but looking for work           NaN   \n",
            "2                 Not employed, but looking for work           NaN   \n",
            "3  Independent contractor, freelancer, or self-em...           NaN   \n",
            "4                                 Employed full-time           NaN   \n",
            "5                                 Employed full-time           NaN   \n",
            "6                                 Employed full-time           NaN   \n",
            "7                                 Employed full-time           NaN   \n",
            "8                                 Employed full-time           NaN   \n",
            "9                                 Employed full-time           NaN   \n",
            "\n",
            "  LearningDataScience CodeWriter CareerSwitcher  \\\n",
            "0                 NaN        Yes            NaN   \n",
            "1                 NaN        NaN            NaN   \n",
            "2                 NaN        NaN            NaN   \n",
            "3                 NaN        Yes            NaN   \n",
            "4                 NaN        Yes            NaN   \n",
            "5                 NaN        Yes            NaN   \n",
            "6                 NaN        Yes            NaN   \n",
            "7                 NaN         No            Yes   \n",
            "8                 NaN        Yes            NaN   \n",
            "9                 NaN        Yes            NaN   \n",
            "\n",
            "                  CurrentJobTitleSelect TitleFit  ...  \\\n",
            "0                 DBA/Database Engineer     Fine  ...   \n",
            "1                                   NaN      NaN  ...   \n",
            "2                                   NaN      NaN  ...   \n",
            "3      Operations Research Practitioner   Poorly  ...   \n",
            "4                    Computer Scientist     Fine  ...   \n",
            "5                        Data Scientist     Fine  ...   \n",
            "6                    Computer Scientist     Fine  ...   \n",
            "7  Software Developer/Software Engineer     Fine  ...   \n",
            "8                      Business Analyst     Fine  ...   \n",
            "9  Software Developer/Software Engineer     Fine  ...   \n",
            "\n",
            "  JobFactorExperienceLevel JobFactorDepartment  JobFactorTitle  \\\n",
            "0                      NaN                 NaN             NaN   \n",
            "1                      NaN                 NaN             NaN   \n",
            "2           Very Important      Very Important  Very Important   \n",
            "3                      NaN                 NaN             NaN   \n",
            "4                      NaN                 NaN             NaN   \n",
            "5                      NaN                 NaN             NaN   \n",
            "6                      NaN                 NaN             NaN   \n",
            "7           Very Important  Somewhat important  Very Important   \n",
            "8                      NaN                 NaN             NaN   \n",
            "9                      NaN                 NaN             NaN   \n",
            "\n",
            "  JobFactorCompanyFunding     JobFactorImpact JobFactorRemote  \\\n",
            "0                     NaN                 NaN             NaN   \n",
            "1                     NaN                 NaN             NaN   \n",
            "2          Very Important      Very Important  Very Important   \n",
            "3                     NaN                 NaN             NaN   \n",
            "4                     NaN                 NaN             NaN   \n",
            "5                     NaN                 NaN             NaN   \n",
            "6                     NaN                 NaN             NaN   \n",
            "7      Somewhat important  Somewhat important   Not important   \n",
            "8                     NaN                 NaN             NaN   \n",
            "9                     NaN                 NaN             NaN   \n",
            "\n",
            "  JobFactorIndustry JobFactorLeaderReputation  JobFactorDiversity  \\\n",
            "0               NaN                       NaN                 NaN   \n",
            "1               NaN        Somewhat important                 NaN   \n",
            "2    Very Important            Very Important      Very Important   \n",
            "3               NaN                       NaN                 NaN   \n",
            "4               NaN                       NaN                 NaN   \n",
            "5               NaN                       NaN                 NaN   \n",
            "6               NaN                       NaN                 NaN   \n",
            "7    Very Important            Very Important  Somewhat important   \n",
            "8               NaN                       NaN                 NaN   \n",
            "9               NaN                       NaN                 NaN   \n",
            "\n",
            "  JobFactorPublishingOpportunity  \n",
            "0                            NaN  \n",
            "1                            NaN  \n",
            "2                 Very Important  \n",
            "3                            NaN  \n",
            "4                            NaN  \n",
            "5                            NaN  \n",
            "6                            NaN  \n",
            "7             Somewhat important  \n",
            "8                            NaN  \n",
            "9                            NaN  \n",
            "\n",
            "[10 rows x 228 columns]\n"
          ]
        },
        {
          "output_type": "stream",
          "name": "stderr",
          "text": [
            "<ipython-input-5-b7eaf1099718>:7: DtypeWarning: Columns (31,83,86,87,98,99,109,116,123,124,127,129,130,164) have mixed types. Specify dtype option on import or set low_memory=False.\n",
            "  multiple_choice_responses_df = pd.read_csv('/content/multipleChoiceResponses.csv', encoding='ISO-8859-1')\n"
          ]
        }
      ]
    },
    {
      "cell_type": "markdown",
      "source": [
        " 2.a [5 pts] What is the probability that a respondent is currently employed as a Programmer given they\n",
        " use C/C++ at work?\n"
      ],
      "metadata": {
        "id": "yt4Qqb3RFyNM"
      }
    },
    {
      "cell_type": "code",
      "source": [
        "# Create a boolean mask for C/C++ users\n",
        "c_cpp_mask = multiple_choice_responses_df['WorkToolsSelect'].str.contains('C/C\\+\\+', na=False)\n",
        "\n",
        "# Apply this mask to the DataFrame to get only the rows for C/C++ users\n",
        "c_cpp_users_df = multiple_choice_responses_df[c_cpp_mask]\n",
        "\n",
        "# Count the total number of C/C++ users\n",
        "num_c_cpp_users = c_cpp_users_df.shape[0]\n",
        "\n",
        "# Create another boolean mask for Programmers within the C/C++ users\n",
        "programmer_mask = c_cpp_users_df['CurrentJobTitleSelect'].str.contains('Programmer', na=False)\n",
        "\n",
        "# Apply this mask to the c_cpp_users_df to get programmers who use C/C++\n",
        "programmers_using_c_cpp_df = c_cpp_users_df[programmer_mask]\n",
        "\n",
        "# Count the number of programmers who use C/C++\n",
        "num_programmers_using_c_cpp = programmers_using_c_cpp_df.shape[0]\n",
        "\n",
        "# Calculate the total number of survey respondents\n",
        "total_respondents = multiple_choice_responses_df.shape[0]\n",
        "\n",
        "# Calculate P(Programmer and C/C++) which is num_programmers_using_c_cpp divided by the total number of respondents\n",
        "p_programmer_and_c_cpp = num_programmers_using_c_cpp / total_respondents\n",
        "\n",
        "# Calculate P(C/C++) which is num_c_cpp_users divided by the total number of respondents\n",
        "p_c_cpp = num_c_cpp_users / total_respondents\n",
        "\n",
        "# Calculate the conditional probability P(Programmer | C/C++)\n",
        "p_programmer_given_c_cpp = p_programmer_and_c_cpp / p_c_cpp\n",
        "\n",
        "# Output the conditional probability\n",
        "print(f'The conditional probability that a respondent is a Programmer given they use C/C++ is: {p_programmer_given_c_cpp}')\n"
      ],
      "metadata": {
        "id": "j9IG9YyRGiQZ",
        "colab": {
          "base_uri": "https://localhost:8080/"
        },
        "outputId": "ee9a7e61-2b63-4694-9ad6-0eb983e88d7e"
      },
      "execution_count": 6,
      "outputs": [
        {
          "output_type": "stream",
          "name": "stdout",
          "text": [
            "The conditional probability that a respondent is a Programmer given they use C/C++ is: 0.022251308900523563\n"
          ]
        }
      ]
    },
    {
      "cell_type": "markdown",
      "source": [
        " 2.b [5 pts] What is the probability that a respondent is a Data Scientist given they have majored in\n",
        " computer science, mathematics or statistics?"
      ],
      "metadata": {
        "id": "LL7D_nALG5-G"
      }
    },
    {
      "cell_type": "code",
      "source": [
        "# Assuming 'MajorSelect' is the column that indicates the respondent's major.\n",
        "# Create a boolean mask for respondents who have majored in Computer Science, Mathematics, or Statistics\n",
        "major_mask = multiple_choice_responses_df['MajorSelect'].isin(['Computer Science', 'Mathematics or statistics'])\n",
        "\n",
        "# Apply this mask to the DataFrame to get only the rows for respondents with the specified majors\n",
        "majored_in_cs_math_stats_df = multiple_choice_responses_df[major_mask]\n",
        "\n",
        "# Create another boolean mask for Data Scientists within the filtered DataFrame\n",
        "data_scientist_mask = majored_in_cs_math_stats_df['CurrentJobTitleSelect'] == 'Data Scientist'\n",
        "\n",
        "# Apply this mask to the majored_in_cs_math_stats_df to get Data Scientists with the specified majors\n",
        "data_scientists_with_major_df = majored_in_cs_math_stats_df[data_scientist_mask]\n",
        "\n",
        "# Count the number of Data Scientists who have majored in Computer Science, Mathematics, or Statistics\n",
        "num_data_scientists_with_major = data_scientists_with_major_df.shape[0]\n",
        "\n",
        "# Calculate the total number of respondents with the specified majors\n",
        "total_respondents_with_major = majored_in_cs_math_stats_df.shape[0]\n",
        "\n",
        "# Calculate the conditional probability P(Data Scientist | CS/Math/Stats major)\n",
        "p_data_scientist_given_major = num_data_scientists_with_major / total_respondents_with_major\n",
        "\n",
        "# Output the conditional probability\n",
        "print(f'The conditional probability that a respondent is a Data Scientist given they majored in CS, Math, or Stats is: {p_data_scientist_given_major}')\n"
      ],
      "metadata": {
        "id": "-GHfaA0rG8_E",
        "colab": {
          "base_uri": "https://localhost:8080/"
        },
        "outputId": "816b2f95-4f0a-4aee-9e94-ddd93a54bc98"
      },
      "execution_count": 7,
      "outputs": [
        {
          "output_type": "stream",
          "name": "stdout",
          "text": [
            "The conditional probability that a respondent is a Data Scientist given they majored in CS, Math, or Stats is: 0.1597400634728729\n"
          ]
        }
      ]
    },
    {
      "cell_type": "markdown",
      "source": [
        " 2.c [10 pts] What is the probability that a respondent works in the Technology industry given that\n",
        " they earn more than 40,000 USD annually?"
      ],
      "metadata": {
        "id": "pkDMRy1xG9XR"
      }
    },
    {
      "cell_type": "code",
      "source": [
        "# Merge the exchange rates into the main DataFrame\n",
        "multiple_choice_responses_df = multiple_choice_responses_df.merge(\n",
        "    conversion_rates_df,\n",
        "    how='left',\n",
        "    left_on='CompensationCurrency',\n",
        "    right_on='originCountry'\n",
        ")\n",
        "\n",
        "# Create the 'CompensationAmountUSD' column\n",
        "multiple_choice_responses_df['CompensationAmountUSD'] = pd.to_numeric(\n",
        "    multiple_choice_responses_df['CompensationAmount'].str.replace(',', '').str.replace('-', ''),\n",
        "    errors='coerce'\n",
        ") * multiple_choice_responses_df['exchangeRate']\n",
        "\n",
        "# After creating the 'CompensationAmountUSD' column, ensure that it exists before proceeding\n",
        "if 'CompensationAmountUSD' in multiple_choice_responses_df.columns:\n",
        "    # Filter for respondents who earn more than $40,000 USD annually\n",
        "    high_earners_df = multiple_choice_responses_df[multiple_choice_responses_df['CompensationAmountUSD'] > 40000]\n",
        "\n",
        "    # Calculate the number of high earners in the Technology industry\n",
        "    tech_industry_high_earners_count = high_earners_df[high_earners_df['EmployerIndustry'] == 'Technology'].shape[0]\n",
        "\n",
        "    # Calculate the total number of high earners\n",
        "    total_high_earners_count = high_earners_df.shape[0]\n",
        "\n",
        "    # Calculate the conditional probability\n",
        "    probability_tech_given_high_earner = tech_industry_high_earners_count / total_high_earners_count if total_high_earners_count else 0\n",
        "\n",
        "    # Print the conditional probability\n",
        "    print(f'The conditional probability of working in the Technology industry given earning more than $40,000 USD annually is: {probability_tech_given_high_earner}')\n",
        "else:\n",
        "    print(\"The 'CompensationAmountUSD' column was not created successfully.\")"
      ],
      "metadata": {
        "id": "CpOy952TG_Q5",
        "colab": {
          "base_uri": "https://localhost:8080/"
        },
        "outputId": "13e7e3ff-f2bb-4555-ced3-67b9f77855e3"
      },
      "execution_count": 8,
      "outputs": [
        {
          "output_type": "stream",
          "name": "stdout",
          "text": [
            "The conditional probability of working in the Technology industry given earning more than $40,000 USD annually is: 0.1935483870967742\n"
          ]
        }
      ]
    },
    {
      "cell_type": "markdown",
      "source": [
        " 2.d [5 pts] What is the joint probability of a respondent being over 30 years old and having a at\n",
        " least a Bachelor’s degree?"
      ],
      "metadata": {
        "id": "PUU_0XyVG_sY"
      }
    },
    {
      "cell_type": "code",
      "source": [
        "# 2.d\n",
        "# Convert the 'Age' column to numeric and handle any non-numeric entries by coercing them to NaN.\n",
        "multiple_choice_responses_df['Age'] = pd.to_numeric(multiple_choice_responses_df['Age'], errors='coerce')\n",
        "\n",
        "# Assuming that 'FormalEducation' contains strings that include \"Bachelor’s\", \"Master’s\", or \"Doctoral\" for those levels of education.\n",
        "# You may need to adjust the contains method based on the exact wording in your DataFrame.\n",
        "\n",
        "# Filter for respondents over 30\n",
        "over_30_df = multiple_choice_responses_df[multiple_choice_responses_df['Age'] > 30]\n",
        "\n",
        "# Filter for respondents with at least a Bachelor's degree from the already filtered 'over_30_df'\n",
        "degree_levels = ['Bachelor’s degree', 'Master’s degree', 'Doctoral degree']  # Adjust the list based on your data\n",
        "over_30_with_degree_df = over_30_df[over_30_df['FormalEducation'].isin(degree_levels)]\n",
        "\n",
        "# Calculate the joint probability\n",
        "joint_probability = over_30_with_degree_df.shape[0] / multiple_choice_responses_df.shape[0]\n",
        "print(f\"The joint probability of being over 30 years old and having at least a Bachelor's degree is: {joint_probability}\")\n",
        "\n"
      ],
      "metadata": {
        "id": "n585sIsaHBb0",
        "colab": {
          "base_uri": "https://localhost:8080/"
        },
        "outputId": "328b0b3e-a43d-470d-c5bf-ac3231949da5"
      },
      "execution_count": 9,
      "outputs": [
        {
          "output_type": "stream",
          "name": "stdout",
          "text": [
            "The joint probability of being over 30 years old and having at least a Bachelor's degree is: 0.11019382627422829\n"
          ]
        }
      ]
    },
    {
      "cell_type": "markdown",
      "source": [
        " 2.e [5 pts] What is the probability that a respondent is a Data Scientist who majored in Computer\n",
        " Science, Mathematics or statistics?"
      ],
      "metadata": {
        "id": "kSTVDRDsHCAE"
      }
    },
    {
      "cell_type": "code",
      "source": [
        "# First, we identify respondents who are Data Scientists\n",
        "data_scientist_mask = multiple_choice_responses_df['CurrentJobTitleSelect'] == 'Data Scientist'\n",
        "\n",
        "# Define a mask for respondents who are Data Scientists in the free-form responses\n",
        "free_form_data_scientist_mask = free_form_responses_df['CurrentJobTitleFreeForm'].str.contains(\n",
        "    'data scientist', case=False, na=False)\n",
        "\n",
        "\n",
        "\n",
        "# Then, we identify respondents who have majored in Computer Science, Mathematics, or Statistics\n",
        "major_mask = multiple_choice_responses_df['MajorSelect'].isin(['Computer Science', 'Mathematics or statistics'])\n",
        "# Then, we identify respondents who have majored in Computer Science, Mathematics, or Statistics\n",
        "free_form_major_mask = free_form_responses_df['MajorFreeForm'].isin(['Computer Science', 'Mathematics or statistics'])\n",
        "\n",
        "\n",
        "# Combine the masks to find respondents who satisfy both conditions in the free-form responses\n",
        "free_form_data_scientist_and_major_mask = free_form_data_scientist_mask & free_form_major_mask\n",
        "# Next, we create a combined mask to find respondents who satisfy both conditions\n",
        "data_scientist_and_major_mask = data_scientist_mask & major_mask\n",
        "\n",
        "\n",
        "# Apply this combined mask to filter the DataFrame\n",
        "data_scientists_with_cs_math_stats_major_df = multiple_choice_responses_df[data_scientist_and_major_mask]\n",
        "# Apply this combined mask to filter the free-form DataFrame\n",
        "free_form_data_scientists_with_cs_math_stats_major_df = free_form_responses_df[\n",
        "    free_form_data_scientist_and_major_mask]\n",
        "\n",
        "\n",
        "# Count the number of such Data Scientists\n",
        "num_data_scientists_with_cs_math_stats_major = data_scientists_with_cs_math_stats_major_df.shape[0] + free_form_data_scientists_with_cs_math_stats_major_df.shape[0]\n",
        "\n",
        "# Calculate the total number of survey respondents\n",
        "total_respondents = multiple_choice_responses_df.shape[0] + free_form_responses_df.shape[0]\n",
        "\n",
        "\n",
        "# Calculate the joint probability\n",
        "p_data_scientist_and_cs_math_stats_major = num_data_scientists_with_cs_math_stats_major / total_respondents\n",
        "\n",
        "# Output the joint probability\n",
        "print(f\"The probability of a respondent being a Data Scientist who majored in CS, Math, or Stats is: {p_data_scientist_and_cs_math_stats_major}\")\n"
      ],
      "metadata": {
        "id": "SFfQpXP0HEWt",
        "colab": {
          "base_uri": "https://localhost:8080/"
        },
        "outputId": "1947827a-a4c5-49d2-9c26-79a458ae157c"
      },
      "execution_count": 14,
      "outputs": [
        {
          "output_type": "stream",
          "name": "stdout",
          "text": [
            "The probability of a respondent being a Data Scientist who majored in CS, Math, or Stats is: 0.03161641541038526\n"
          ]
        }
      ]
    },
    {
      "cell_type": "markdown",
      "source": [
        "2.f [5 pts] What is the joint probability that a respondent is from France, earns less than 100,000 USD annually, and uses Cross-Validation Often or Most of the time?"
      ],
      "metadata": {
        "id": "WiWjmNPoHE4E"
      }
    },
    {
      "cell_type": "code",
      "source": [
        "# Filter for respondents from France\n",
        "from_france_df = multiple_choice_responses_df[multiple_choice_responses_df['Country'] == 'France']\n",
        "\n",
        "# Filter for respondents earning less than $100,000 annually from those who are from France\n",
        "earns_less_than_100k_df = from_france_df[from_france_df['CompensationAmountUSD'] < 100000]\n",
        "\n",
        "# Filter for respondents who use Cross-Validation 'Often' or 'Most of the time' from those earning less than $100,000\n",
        "uses_cross_validation_often_df = earns_less_than_100k_df[\n",
        "    earns_less_than_100k_df['WorkMethodsFrequencyCross-Validation'].isin(['Often', 'Most of the time'])\n",
        "]\n",
        "\n",
        "# Calculate the joint probability as the count of such respondents divided by the total number of respondents\n",
        "joint_probability_france_cv_less_100k = len(uses_cross_validation_often_df) / len(multiple_choice_responses_df)\n",
        "\n",
        "# Print the joint probability\n",
        "print(f\"The joint probability of being from France, earning less than $100,000, and using Cross-Validation often is: {joint_probability_france_cv_less_100k}\")\n"
      ],
      "metadata": {
        "id": "wCBt_b1UHG6g",
        "colab": {
          "base_uri": "https://localhost:8080/"
        },
        "outputId": "8713c0fd-81ef-461b-fa29-8d58a839d879"
      },
      "execution_count": 15,
      "outputs": [
        {
          "output_type": "stream",
          "name": "stdout",
          "text": [
            "The joint probability of being from France, earning less than $100,000, and using Cross-Validation often is: 0.0046063651591289785\n"
          ]
        }
      ]
    },
    {
      "cell_type": "markdown",
      "source": [
        "2.g [10 pts] What is the probability that a respondent uses C/C++ at work given that they are employed\n",
        " as a Programmer? (Hint: Use your findings from Question 2a)."
      ],
      "metadata": {
        "id": "3Z5kaA6JHHUU"
      }
    },
    {
      "cell_type": "code",
      "source": [
        "# Calculate the number of respondents who are Programmers\n",
        "num_programmers = multiple_choice_responses_df['CurrentJobTitleSelect'].str.contains('Programmer', na=False).sum()\n",
        "\n",
        "# Calculate the probability of being a Programmer\n",
        "p_programmer = num_programmers / total_respondents\n",
        "\n",
        "#This was already calculated in Question 2a\n",
        "# Calculate P(Programmer and C/C++) which is num_programmers_using_c_cpp divided by the total number of respondents\n",
        "#p_programmer_and_c_cpp = num_programmers_using_c_cpp / total_respondents\n",
        "\n",
        "# Calculate the conditional probability P(C/C++ | Programmer)\n",
        "p_c_cpp_given_programmer = p_programmer_and_c_cpp / p_programmer\n",
        "\n",
        "# Output the conditional probability\n",
        "print(f\"The probability that a respondent uses C/C++ at work given that they are employed as a Programmer is: {p_c_cpp_given_programmer}\")\n"
      ],
      "metadata": {
        "id": "I8b4KpIdHJaw",
        "colab": {
          "base_uri": "https://localhost:8080/"
        },
        "outputId": "c62fccd0-91a1-42b9-e85f-4b41cddf03bd"
      },
      "execution_count": 16,
      "outputs": [
        {
          "output_type": "stream",
          "name": "stdout",
          "text": [
            "The probability that a respondent uses C/C++ at work given that they are employed as a Programmer is: 0.14718614718614717\n"
          ]
        }
      ]
    },
    {
      "cell_type": "markdown",
      "source": [
        "2.h [15 pts] Given the probability of a respondent wearing glasses is 0.15, and the probability of a\n",
        " respondent wearing glasses given they have a PhD is 0.25, find the probability of a respondent having a PhD\n",
        " given that they wear glasses."
      ],
      "metadata": {
        "id": "Hz5-x6tUHJ3o"
      }
    },
    {
      "cell_type": "code",
      "source": [
        "# Filter for respondents with a Doctoral degree (PhD)\n",
        "phd_mask = multiple_choice_responses_df['FormalEducation'].str.contains('Doctoral degree', na=False)\n",
        "\n",
        "# Apply this mask to filter the DataFrame\n",
        "phd_df = multiple_choice_responses_df[phd_mask]\n",
        "\n",
        "# Calculate the number of respondents with a PhD\n",
        "num_phd = phd_df.shape[0]\n",
        "\n",
        "# Calculate the total number of respondents\n",
        "total_respondents = multiple_choice_responses_df.shape[0]\n",
        "\n",
        "# Calculate the probability of having a PhD\n",
        "P_PhD = num_phd / total_respondents if total_respondents else 0\n",
        "\n",
        "# Given probabilities from the problem statement\n",
        "P_Glasses = 0.15\n",
        "P_Glasses_given_PhD = 0.25\n",
        "\n",
        "# Applying Bayes' theorem to find P(PhD | Glasses)\n",
        "P_PhD_given_Glasses = (P_Glasses_given_PhD * P_PhD) / P_Glasses if P_Glasses else 0\n",
        "\n",
        "# Print the probabilities\n",
        "print(f\"Probability of a respondent having a PhD: {P_PhD}\")\n",
        "print(f\"Probability of a respondent having a PhD given they wear glasses: {P_PhD_given_Glasses}\")\n"
      ],
      "metadata": {
        "id": "2nqorwYhHMwo",
        "colab": {
          "base_uri": "https://localhost:8080/"
        },
        "outputId": "0df4cf89-78d0-4e93-93bb-7b9236ede855"
      },
      "execution_count": 17,
      "outputs": [
        {
          "output_type": "stream",
          "name": "stdout",
          "text": [
            "Probability of a respondent having a PhD: 0.14040440296721704\n",
            "Probability of a respondent having a PhD given they wear glasses: 0.23400733827869508\n"
          ]
        }
      ]
    }
  ]
}